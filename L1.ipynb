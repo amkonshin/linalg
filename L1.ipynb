{
 "cells": [
  {
   "cell_type": "markdown",
   "metadata": {},
   "source": [
    "1. Исследовать на линейную зависимость:\n",
    "f1(x)=ex,f2(x)=1,f3(x)=x+1,f4(x)=x−ex. \n",
    "\n",
    "2. Исследовать на линейную зависимость:\n",
    "f1(x)=2,f2(x)=x,f3(x)=x2,f4(x)=(x+1)2. \n",
    "\n",
    "3. Найти координаты вектора  x=(2,3,5)∈R3  в базисе  b1=(0,0,10) ,  b2=(2,0,0) ,  b3=(0,1,0) .\n",
    "\n",
    "4. Найти координаты вектора  3x2−2x+2∈R3[x] :\n",
    "\n",
    "а) в базисе  1 ,  x ,  x2 ;\n",
    "\n",
    "б) в базисе  x2 ,  x−1 ,  1 .\n",
    "\n",
    "5. Установить, является ли линейным подпространством:\n",
    "\n",
    "а) совокупность всех векторов трехмерного пространства, у которых по крайней мере одна из первых двух координат равна нулю;\n",
    "\n",
    "б) все векторы, являющиеся линейными комбинациями данных векторов  {u1,u2,...,un} ."
   ]
  },
  {
   "cell_type": "markdown",
   "metadata": {},
   "source": [
    "#### 1\n"
   ]
  },
  {
   "cell_type": "markdown",
   "metadata": {},
   "source": [
    "f4(x)=f3(x)-f2(x)-f1(x)=> линейная зависимость"
   ]
  },
  {
   "cell_type": "markdown",
   "metadata": {},
   "source": [
    "#### 2"
   ]
  },
  {
   "cell_type": "markdown",
   "metadata": {},
   "source": [
    "f4(x)=x**2+2х+1\n",
    "f4(x)=f3(x)+2f2(x)+0.5f1(x) => линейная зависимость"
   ]
  },
  {
   "cell_type": "markdown",
   "metadata": {},
   "source": [
    "#### 3"
   ]
  },
  {
   "cell_type": "markdown",
   "metadata": {},
   "source": [
    "x=(1,3,0.5)"
   ]
  },
  {
   "cell_type": "markdown",
   "metadata": {},
   "source": [
    "#### 4"
   ]
  },
  {
   "cell_type": "markdown",
   "metadata": {},
   "source": [
    "a. 3х**2-2х+2=a*1+b*x+с*x**2"
   ]
  },
  {
   "cell_type": "code",
   "execution_count": null,
   "metadata": {},
   "outputs": [],
   "source": [
    "a=2,b=-2,c=3 => (2,-2,3)"
   ]
  },
  {
   "cell_type": "code",
   "execution_count": null,
   "metadata": {},
   "outputs": [],
   "source": [
    "b. 3х**2-2х+2=a*х**2+b*(x-1)+с*1"
   ]
  },
  {
   "cell_type": "code",
   "execution_count": null,
   "metadata": {},
   "outputs": [],
   "source": [
    "a=3, b=-2, c=0 =>  (3,-2,0)"
   ]
  },
  {
   "cell_type": "markdown",
   "metadata": {},
   "source": [
    "#### 5"
   ]
  },
  {
   "cell_type": "markdown",
   "metadata": {},
   "source": [
    "Необходимо установить, что каждое из множеств вида (0,a,b), (0,0,a), (a,0,b) являются подпространствами линеййного пространства"
   ]
  },
  {
   "cell_type": "markdown",
   "metadata": {},
   "source": [
    "(0,a,b)+(0,с,d)=(0,a+c,b+d)\n",
    "j(0,a,b)=(0,ja,jb) => Полученные векторы также принадлежат указанному в гипотезе множеству всех векторов вида  (0,a,b) , то есть данное множество является подпространством линейного пространства  R3 ."
   ]
  },
  {
   "cell_type": "markdown",
   "metadata": {},
   "source": [
    "(0,0,a)+(0,0,b)=(0,0,a+c)\n",
    "j(0,0,a)=(0,0,ja) => Полученные векторы также принадлежат указанному в гипотезе множеству всех векторов вида  (0,0,a) , то есть данное множество является подпространством линейного пространства  R3 ."
   ]
  },
  {
   "cell_type": "markdown",
   "metadata": {},
   "source": [
    "(a,0,b)+(c,0,d)=(a+c,0,b+d)\n",
    "j(a,0,b)=(ja,0,jb) => Полученные векторы также принадлежат указанному в гипотезе множеству всех векторов вида  (a,0,b) , то есть данное множество является подпространством линейного пространства  R3 ."
   ]
  },
  {
   "cell_type": "markdown",
   "metadata": {},
   "source": [
    "Таким образом, совокупность всех векторов трехмерного пространства, у которых по крайней мере одна из первых двух координат равна нулю является линейным подпространством линейного пространства  R3"
   ]
  },
  {
   "cell_type": "markdown",
   "metadata": {},
   "source": [
    "1. Найти скалярное произведение векторов  x,y∈R :\n",
    "а)  x=(0,−3,6), y=(−4,7,9); \n",
    "б)  x=(7,−4,0,1), y=(−3,1,11,2). \n",
    "\n",
    "2. Найти нормы векторов  (4,2,4)  и  (12,3,4)  и угол между ними.\n",
    "\n",
    "3. Будет ли линейное пространство евклидовым, если за скалярное произведение принять:\n",
    "а) произведение длин векторов;\n",
    "б) утроенное обычное скалярное произведение векторов?\n",
    "\n",
    "4. Какие из нижеперечисленных векторов образуют ортонормированный базис в линейном пространстве  R3 :\n",
    "а)  (1,0,0),(0,0,1); \n",
    "б)  (1/2–√,−1/2–√,0),(1/2–√,1/2–√,0),(0,0,1); \n",
    "в)  (1/2,−1/2,0),(0,1/2,1/2),(0,0,1); \n",
    "г)  (1,0,0),(0,1,0),(0,0,1)?"
   ]
  },
  {
   "cell_type": "markdown",
   "metadata": {},
   "source": [
    "#### 1.a"
   ]
  },
  {
   "cell_type": "code",
   "execution_count": 4,
   "metadata": {},
   "outputs": [
    {
     "data": {
      "text/plain": [
       "33"
      ]
     },
     "execution_count": 4,
     "metadata": {},
     "output_type": "execute_result"
    }
   ],
   "source": [
    "xy=-3*7+6*9\n",
    "xy"
   ]
  },
  {
   "cell_type": "markdown",
   "metadata": {},
   "source": [
    "#### 1b."
   ]
  },
  {
   "cell_type": "code",
   "execution_count": 5,
   "metadata": {},
   "outputs": [
    {
     "data": {
      "text/plain": [
       "-23"
      ]
     },
     "execution_count": 5,
     "metadata": {},
     "output_type": "execute_result"
    }
   ],
   "source": [
    "xy=-3*7-4+2\n",
    "xy"
   ]
  },
  {
   "cell_type": "markdown",
   "metadata": {},
   "source": [
    "#### 2.\n"
   ]
  },
  {
   "cell_type": "code",
   "execution_count": 10,
   "metadata": {},
   "outputs": [
    {
     "data": {
      "text/plain": [
       "10"
      ]
     },
     "execution_count": 10,
     "metadata": {},
     "output_type": "execute_result"
    }
   ],
   "source": [
    "a=4+2+4 # норма а\n",
    "a\n"
   ]
  },
  {
   "cell_type": "code",
   "execution_count": 9,
   "metadata": {},
   "outputs": [
    {
     "data": {
      "text/plain": [
       "19"
      ]
     },
     "execution_count": 9,
     "metadata": {},
     "output_type": "execute_result"
    }
   ],
   "source": [
    "b=12+3+4 # норма b\n",
    "b"
   ]
  },
  {
   "cell_type": "code",
   "execution_count": 11,
   "metadata": {},
   "outputs": [],
   "source": [
    "ab=4*12+2*3+4*4"
   ]
  },
  {
   "cell_type": "code",
   "execution_count": 13,
   "metadata": {},
   "outputs": [
    {
     "data": {
      "text/plain": [
       "0.3684210526315789"
      ]
     },
     "execution_count": 13,
     "metadata": {},
     "output_type": "execute_result"
    }
   ],
   "source": [
    "cosf=ab/(a*b)\n",
    "cosf"
   ]
  },
  {
   "cell_type": "code",
   "execution_count": 14,
   "metadata": {},
   "outputs": [],
   "source": [
    "f=68,4 # угол между a b"
   ]
  },
  {
   "cell_type": "markdown",
   "metadata": {},
   "source": [
    "#### 3a."
   ]
  },
  {
   "cell_type": "markdown",
   "metadata": {},
   "source": [
    " Будет, так как будут выполдняться все необходимые условия отнесения пространства к евклидову:При этом указанное правило должно подчиняться четырем аксиомам:\n",
    "1)  (x,y)=(y,x); \n",
    "2)  (λx,y)=λ(x,y); \n",
    "3)  (x1+x2,y)=(x1,y)+(x2,y); \n",
    "4)  (x,x)≥0 , причем  (x,x)=0⇔x=0."
   ]
  },
  {
   "cell_type": "markdown",
   "metadata": {},
   "source": [
    "#### 3b"
   ]
  },
  {
   "cell_type": "markdown",
   "metadata": {},
   "source": [
    "Будет, так как будут выполдняться все необходимые условия отнесения пространства к евклидову:При этом указанное правило должно подчиняться четырем аксиомам:\n",
    "1)  (x,y)=(y,x); \n",
    "2)  (λx,y)=λ(x,y); \n",
    "3)  (x1+x2,y)=(x1,y)+(x2,y); \n",
    "4)  (x,x)≥0 , причем  (x,x)=0⇔x=0."
   ]
  },
  {
   "cell_type": "markdown",
   "metadata": {},
   "source": [
    "#### 4"
   ]
  },
  {
   "cell_type": "code",
   "execution_count": null,
   "metadata": {},
   "outputs": [],
   "source": [
    "4. Какие из нижеперечисленных векторов образуют ортонормированный базис в линейном пространстве  R3 :\n",
    "а)  (1,0,0),(0,0,1); \n",
    "б)  (1/2–√,−1/2–√,0),(1/2–√,1/2–√,0),(0,0,1); \n",
    "в)  (1/2,−1/2,0),(0,1/2,1/2),(0,0,1); \n",
    "г)  (1,0,0),(0,1,0),(0,0,1)?"
   ]
  },
  {
   "cell_type": "code",
   "execution_count": null,
   "metadata": {},
   "outputs": [],
   "source": [
    "(1,0,0),(0,0,1); "
   ]
  },
  {
   "cell_type": "code",
   "execution_count": null,
   "metadata": {},
   "outputs": [],
   "source": [
    "(1,0,0)*(0,0,1)=0\n",
    "(1,0,0)*(1,0,0)=1\n",
    "(0,0,1)*(0,0,1)=1 \n",
    "Вектора являются ортонормированным базисом в линейном пространстве  R3"
   ]
  },
  {
   "cell_type": "code",
   "execution_count": null,
   "metadata": {},
   "outputs": [],
   "source": [
    "(1/√2,−1/–√2,0),(1/–√2,1/–√2,0),(0,0,1)"
   ]
  },
  {
   "cell_type": "code",
   "execution_count": null,
   "metadata": {},
   "outputs": [],
   "source": [
    "(1/√2,−1/–√2,0)*(1/–√2,1/–√2,0)*(0,0,1)=0\n",
    "(1/√2,−1/–√2,0)*(1/√2,−1/–√2,0)=0.5+0.5+0=1\n",
    "(1/–√2,1/–√2,0)*(1/–√2,1/–√2,0)=0.5+0.5+0=1\n",
    "Вектора являются ортонормированным базисом в линейном пространстве  R3"
   ]
  },
  {
   "cell_type": "code",
   "execution_count": null,
   "metadata": {},
   "outputs": [],
   "source": [
    "(1/2,−1/2,0),(0,1/2,1/2),(0,0,1); "
   ]
  },
  {
   "cell_type": "code",
   "execution_count": null,
   "metadata": {},
   "outputs": [],
   "source": [
    "(1/2,−1/2,0)*(0,1/2,1/2)*(0,0,1)=0; \n",
    "(1/2,−1/2,0)*(1/2,−1/2,0)=0.25+0.25+0=0.5=> Вектора не являются ортонормированным базисом в линейном пространстве  R3"
   ]
  },
  {
   "cell_type": "code",
   "execution_count": null,
   "metadata": {},
   "outputs": [],
   "source": [
    "(1,0,0),(0,1,0),(0,0,1) Является ортонормированным базисом в линейном пространстве  R3"
   ]
  },
  {
   "cell_type": "code",
   "execution_count": null,
   "metadata": {},
   "outputs": [],
   "source": []
  }
 ],
 "metadata": {
  "kernelspec": {
   "display_name": "Python 3",
   "language": "python",
   "name": "python3"
  },
  "language_info": {
   "codemirror_mode": {
    "name": "ipython",
    "version": 3
   },
   "file_extension": ".py",
   "mimetype": "text/x-python",
   "name": "python",
   "nbconvert_exporter": "python",
   "pygments_lexer": "ipython3",
   "version": "3.7.4"
  }
 },
 "nbformat": 4,
 "nbformat_minor": 2
}
